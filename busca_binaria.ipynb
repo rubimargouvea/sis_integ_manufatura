{
  "nbformat": 4,
  "nbformat_minor": 0,
  "metadata": {
    "colab": {
      "provenance": [],
      "toc_visible": true,
      "authorship_tag": "ABX9TyNv+QanVhWCSD3bZ6s5rpEe",
      "include_colab_link": true
    },
    "kernelspec": {
      "name": "python3",
      "display_name": "Python 3"
    },
    "language_info": {
      "name": "python"
    }
  },
  "cells": [
    {
      "cell_type": "markdown",
      "metadata": {
        "id": "view-in-github",
        "colab_type": "text"
      },
      "source": [
        "<a href=\"https://colab.research.google.com/github/rubimargouvea/sis_integ_manufatura/blob/master/busca_binaria.ipynb\" target=\"_parent\"><img src=\"https://colab.research.google.com/assets/colab-badge.svg\" alt=\"Open In Colab\"/></a>"
      ]
    },
    {
      "cell_type": "code",
      "execution_count": 10,
      "metadata": {
        "id": "I9qx6o3pULxf"
      },
      "outputs": [],
      "source": [
        "# Vídeo BUSCA BINÁRIA: https://youtu.be/EgLE5HwRy_M\n",
        "# Busca binária\n",
        "def busca_binaria(array, item, inicio=0, fim=None): # criação da função onde os argumentos são array(vetor), item e inicio e fim do vetor \n",
        "    if fim is None:                                 # se o fim for vazio\n",
        "        fim = len(array)-1                          #fim recebe o valor de -1\n",
        "    if inicio <= fim:\n",
        "        meio = (inicio + fim)//2\n",
        "        if array[meio] == item:\n",
        "            return meio\n",
        "        if item < array[meio]:\n",
        "            return busca_binaria(array, item, inicio, meio-1)\n",
        "        else:\n",
        "            return busca_binaria(array, item, meio+1, fim)\n",
        "    return None\n",
        "\n",
        "#lista = [1,2]\n",
        "#busca_binaria(lista, 3, 0, len(lista)-1)\n",
        "# binary_search(lista, 4)\n"
      ]
    }
  ]
}